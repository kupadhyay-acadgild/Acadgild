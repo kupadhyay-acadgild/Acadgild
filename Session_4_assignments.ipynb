{
 "cells": [
  {
   "cell_type": "code",
   "execution_count": 1,
   "metadata": {},
   "outputs": [
    {
     "name": "stdout",
     "output_type": "stream",
     "text": [
      "Please enter the side 1 length: 3\n",
      "Please enter the side 2 length: 4\n",
      "Please enter the side 3 length: 5\n"
     ]
    },
    {
     "data": {
      "text/plain": [
       "6.0"
      ]
     },
     "execution_count": 1,
     "metadata": {},
     "output_type": "execute_result"
    }
   ],
   "source": [
    "\"\"\"\n",
    "1.1 Write a Python Program(with class concepts) to find the area of the triangle using the below formula.\n",
    "area = (s*(s-a)*(s-b)*(s-c)) ** 0.5\n",
    "Function to take the length of the sides of triangle from user should be defined in the parent class and function to calculate the area should be defined in subclass.\n",
    "\"\"\"\n",
    "\n",
    "class triangle():\n",
    "\n",
    "    def side_input(self):\n",
    "        self.s1 = float(input(\"Please enter the side 1 length: \"))\n",
    "        self.s2 = float(input(\"Please enter the side 2 length: \"))\n",
    "        self.s3 = float(input(\"Please enter the side 3 length: \"))\n",
    "        self.s = (self.s1+self.s2+self.s3)/2\n",
    "        \n",
    "class traingle_area(triangle):\n",
    "    def area_triangle(self):\n",
    "        A = (self.s*(self.s-self.s1)*(self.s-self.s2)*(self.s-self.s3))**0.5\n",
    "        return A\n",
    "\n",
    "T = traingle_area()\n",
    "T.side_input()\n",
    "T.area_triangle()"
   ]
  },
  {
   "cell_type": "code",
   "execution_count": 2,
   "metadata": {},
   "outputs": [
    {
     "data": {
      "text/plain": [
       "[3, 6, 8, 2, 6]"
      ]
     },
     "execution_count": 2,
     "metadata": {},
     "output_type": "execute_result"
    }
   ],
   "source": [
    "\"\"\"\n",
    "2.1 Write a Python program using function concept that maps list of words into a list of integers representing the lengths of the corresponding words.\n",
    "\"\"\"\n",
    "List_word = ['the', 'python', 'language', 'is', 'simple']\n",
    "def map_words_integers(list_word, list_integer = []):\n",
    "   return [len(x) for x in list_word]   \n",
    "l = map_words_integers(List_word)\n",
    "l"
   ]
  },
  {
   "cell_type": "code",
   "execution_count": 3,
   "metadata": {},
   "outputs": [
    {
     "data": {
      "text/plain": [
       "True"
      ]
     },
     "execution_count": 3,
     "metadata": {},
     "output_type": "execute_result"
    }
   ],
   "source": [
    "\"\"\"\n",
    "Write a Python function which takes a character (i.e. a string of length 1) and returns True if it is a vowel, False otherwise.\n",
    "\"\"\"\n",
    "\n",
    "def fun(variable): \n",
    "    letters = ['a', 'e', 'i', 'o', 'u'] \n",
    "    if (variable.lower() in letters): \n",
    "        return True\n",
    "    else: \n",
    "        return False\n",
    "fun('A')"
   ]
  }
 ],
 "metadata": {
  "kernelspec": {
   "display_name": "Python 3",
   "language": "python",
   "name": "python3"
  },
  "language_info": {
   "codemirror_mode": {
    "name": "ipython",
    "version": 3
   },
   "file_extension": ".py",
   "mimetype": "text/x-python",
   "name": "python",
   "nbconvert_exporter": "python",
   "pygments_lexer": "ipython3",
   "version": "3.7.0"
  }
 },
 "nbformat": 4,
 "nbformat_minor": 2
}
