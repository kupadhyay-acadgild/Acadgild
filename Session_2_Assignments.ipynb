{
 "cells": [
  {
   "cell_type": "code",
   "execution_count": 1,
   "metadata": {},
   "outputs": [
    {
     "name": "stdout",
     "output_type": "stream",
     "text": [
      "Add a number to create a list:2,3,4,5,56\n",
      "The list with comma-seprated number are:  ['2', '3', '4', '5', '56']\n"
     ]
    }
   ],
   "source": [
    "#1. Write a program which accepts a sequence of comma-separated numbers from console and generate a list.\n",
    "\n",
    "Add_List = input(\"Add a number to create a list:\")\n",
    "X = Add_List.split(\",\")\n",
    "print(\"The list with comma-seprated number are: \" , X)"
   ]
  },
  {
   "cell_type": "code",
   "execution_count": 2,
   "metadata": {},
   "outputs": [
    {
     "name": "stdout",
     "output_type": "stream",
     "text": [
      "Enter the number of rows:5\n",
      "*\n",
      "**\n",
      "***\n",
      "****\n",
      "*****\n",
      "****\n",
      "***\n",
      "**\n",
      "*\n"
     ]
    }
   ],
   "source": [
    "#2. Create the below pattern using nested for loop in Python.\n",
    "#*\n",
    "#* *\n",
    "#* * *\n",
    "#* * * *\n",
    "#* * * * *\n",
    "#* * * *\n",
    "#* * *\n",
    "#* *\n",
    "#*\n",
    "\n",
    "pyramid_size = int(input(\"Enter the number of rows:\"))\n",
    "for i in range (0, pyramid_size):\n",
    "        print(\"*\"*(i+1), end=\"\\n\")\n",
    "for j in range (pyramid_size-1, 0, -1):\n",
    "        print(\"*\"*(j), end=\"\\n\")"
   ]
  },
  {
   "cell_type": "code",
   "execution_count": 3,
   "metadata": {},
   "outputs": [
    {
     "name": "stdout",
     "output_type": "stream",
     "text": [
      "Enter the word which need to be printed reverse:kavish\n",
      "hsivak\n"
     ]
    }
   ],
   "source": [
    "#3. Write a Python program to reverse a word after accepting the input from the user.\n",
    "\n",
    "input_key = input(\"Enter the word which need to be printed reverse:\")\n",
    "print(input_key[::-1])"
   ]
  },
  {
   "cell_type": "code",
   "execution_count": 5,
   "metadata": {},
   "outputs": [
    {
     "name": "stdout",
     "output_type": "stream",
     "text": [
      "Enter the phrase:WE, THE PEOPLE OF INDIA,\n",
      "Enter the phrase:having solemnly resolved to constitute India into a SOVEREIGN, !\n",
      "Enter the phrase:SOCIALIST, SECULAR, DEMOCRATIC REPUBLIC\n",
      "Enter the phrase:and to secure to all its citizens\n",
      "WE, THE PEOPLE OF INDIA,\n",
      "\t having solemnly resolved to constitute India into a SOVEREIGN, !\n",
      "\t\t\t SOCIALIST, SECULAR, DEMOCRATIC REPUBLIC\n",
      "\t\t\t\t and to secure to all its citizens\n"
     ]
    }
   ],
   "source": [
    "#4. Write a Python Program to print the given string in the format specified in the sample output.\n",
    "#WE, THE PEOPLE OF INDIA, having solemnly resolved to constitute India into a SOVEREIGN, SOCIALIST, SECULAR, DEMOCRATIC REPUBLIC and to secure to all its citizens\n",
    "#Sample Output:\n",
    "#WE, THE PEOPLE OF INDIA,\n",
    "#having solemnly resolved to constitute India into a SOVEREIGN, !\n",
    "#SOCIALIST, SECULAR, DEMOCRATIC REPUBLIC and to secure to all its citizens\n",
    "\n",
    "input_string = input(\"Enter the phrase:\")\n",
    "input_string1 = input(\"Enter the phrase:\")\n",
    "input_string2 = input(\"Enter the phrase:\")\n",
    "input_string3 = input(\"Enter the phrase:\")\n",
    "print(input_string, end=\"\\n\")\n",
    "print(\"\\t\", input_string1, end=\"\\n\")\n",
    "print(\"\\t\\t\\t\", input_string2, end=\"\\n\")\n",
    "print(\"\\t\\t\\t\\t\", input_string3, end=\"\\n\")"
   ]
  }
 ],
 "metadata": {
  "kernelspec": {
   "display_name": "Python 3",
   "language": "python",
   "name": "python3"
  },
  "language_info": {
   "codemirror_mode": {
    "name": "ipython",
    "version": 3
   },
   "file_extension": ".py",
   "mimetype": "text/x-python",
   "name": "python",
   "nbconvert_exporter": "python",
   "pygments_lexer": "ipython3",
   "version": "3.7.0"
  }
 },
 "nbformat": 4,
 "nbformat_minor": 2
}
