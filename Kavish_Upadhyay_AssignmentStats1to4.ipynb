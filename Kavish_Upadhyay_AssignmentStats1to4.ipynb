{
 "cells": [
  {
   "cell_type": "markdown",
   "metadata": {},
   "source": [
    "# 2.1. Problem Statement: STATISTICS 1"
   ]
  },
  {
   "cell_type": "markdown",
   "metadata": {},
   "source": [
    "\"\"\"1.You survey households in your area to find the average rent they are paying. Find the standard deviation from the following data: $1550, $1700, $900, $850, $1000, $950.\"\"\""
   ]
  },
  {
   "cell_type": "code",
   "execution_count": 3,
   "metadata": {},
   "outputs": [
    {
     "name": "stdout",
     "output_type": "stream",
     "text": [
      "$ 335.92591775899376\n"
     ]
    }
   ],
   "source": [
    "import numpy as np\n",
    "data=np.array([1550,1700,900,850,1000,950])\n",
    "mean_data = sum(data)/len(data)\n",
    "\n",
    "def stdev(x):\n",
    "    stndev = np.sqrt(sum((xi-mean_data)**2 for xi in x)/len(data)-1)\n",
    "    return(stndev)\n",
    "print(\"$\",stdev(data))"
   ]
  },
  {
   "cell_type": "markdown",
   "metadata": {},
   "source": [
    "\"\"\"\n",
    "2.Find the variance for the following set of data representing trees in California (heights in feet):3, 21, 98, 203, 17, 9 \n",
    "\"\"\""
   ]
  },
  {
   "cell_type": "code",
   "execution_count": 6,
   "metadata": {},
   "outputs": [
    {
     "name": "stdout",
     "output_type": "stream",
     "text": [
      "5612.465600000001\n"
     ]
    }
   ],
   "source": [
    "import numpy as np\n",
    "data=np.array([3,21,98,203,17.9])\n",
    "mean_data = sum(data)/len(data)\n",
    "\n",
    "def variance(x):\n",
    "    var=sum((xi-mean_data)**2 for xi in x)/len(data)-1\n",
    "    return(var)\n",
    "print(variance(data))"
   ]
  },
  {
   "cell_type": "markdown",
   "metadata": {},
   "source": [
    "\"\"\"\n",
    "Question:\n",
    "In a class on 100 students, 80 students passed in all subjects, 10 failed in one subject, 7\n",
    "failed in two subjects and 3 failed in three subjects. Find the probability distribution of\n",
    "the variable for number of subjects a student from the given class has failed in.\n",
    "\"\"\""
   ]
  },
  {
   "cell_type": "code",
   "execution_count": 7,
   "metadata": {},
   "outputs": [
    {
     "name": "stdout",
     "output_type": "stream",
     "text": [
      "p[X=0]= 0.8\n",
      "p[X=1]= 0.1\n",
      "p[X=2]= 0.07\n",
      "p[X=3]= 0.03\n"
     ]
    }
   ],
   "source": [
    "\"\"\"\n",
    "Answer:\n",
    "let X is a random variable which indicates the number of subjects a student from a given class has failed in .so,\n",
    "\n",
    "if, X=0 ---> a student failed in 0 subjects\n",
    "    X=1 ---> a student failed in 1 subjects\n",
    "    X=2 ---> a student failed in 2 subjects\n",
    "    X=3 ---> a student failed in 3 subjects\n",
    "\n",
    "since the variable is random variable. hence the distribution is called pmf (probability mass function) .\n",
    "\n",
    "p(x=0)+p(x=1)+p(x=2)+p(x=3)=1\n",
    " \n",
    "p[X=0]= no_of_times_X_equalto_0/sum(no_of_times_X)\n",
    "p[X=1]= no_of_times_X_equalto_1/sum(no_of_times_X)\n",
    "p[X=2]= no_of_times_X_equalto_2/sum(no_of_times_X)\n",
    "p[X=3]= no_of_times_X_equalto_3/sum(no_of_times_X)\n",
    "\n",
    "\"\"\"\n",
    "import numpy as np \n",
    "X=np.array([0,1,2,3]) \n",
    "no_of_times_X=np.array([80,10,7,3])\n",
    "\n",
    "prob_of_X_equalto_0 =no_of_times_X[0]/sum(no_of_times_X)\n",
    "prob_of_X_equalto_1 =no_of_times_X[1]/sum(no_of_times_X)\n",
    "prob_of_X_equalto_2 =no_of_times_X[2]/sum(no_of_times_X)\n",
    "prob_of_X_equalto_3 =no_of_times_X[3]/sum(no_of_times_X)\n",
    "\n",
    "print(\"p[X=0]=\",prob_of_X_equalto_0)\n",
    "print(\"p[X=1]=\",prob_of_X_equalto_1)\n",
    "print(\"p[X=2]=\",prob_of_X_equalto_2)\n",
    "print(\"p[X=3]=\",prob_of_X_equalto_3)"
   ]
  },
  {
   "cell_type": "markdown",
   "metadata": {},
   "source": [
    "# 2.2. Problem Statement: STATISTICS 2"
   ]
  },
  {
   "cell_type": "markdown",
   "metadata": {},
   "source": [
    "\"\"\"\n",
    "Question:\n",
    "A test is conducted which is consisting of 20 MCQs (multiple choices questions) with\n",
    "every MCQ having its four options out of which only one is correct. Determine the\n",
    "probability that a person undertaking that test has answered exactly 5 questions wrong.\n",
    "\"\"\""
   ]
  },
  {
   "cell_type": "code",
   "execution_count": 13,
   "metadata": {},
   "outputs": [
    {
     "name": "stdout",
     "output_type": "stream",
     "text": [
      "probability of 5 success out of 20 is 3.4264958230778575e-06\n"
     ]
    }
   ],
   "source": [
    "\"\"\"\n",
    "Let X is a random variable \n",
    "X=the number of success out of n=20 trails\n",
    "n=20 \n",
    "\n",
    "right = option choosen from answer is right\n",
    "wrong = option choosen from answer is wrong\n",
    "\n",
    "p(right)=p=1/4\n",
    "p(wrong)=q=3/4\n",
    "\n",
    "experiment is binomial experiment. so,\n",
    "\n",
    "P(X=5)=nCr*(p**r)*(q**(n-r)),where n=20 and r=5\n",
    "\"\"\"\n",
    "import scipy.special\n",
    "\n",
    "def binomail_prob(p,q,n,r):\n",
    "    probab=scipy.special.comb(n,r)*(p**r)*(q**(n-r))\n",
    "    return probab\n",
    "    \n",
    "probability = binomail_prob((3/4),(1/4),20,5)\n",
    "print(\"probability of 5 success out of 20 is\",probability)"
   ]
  },
  {
   "cell_type": "markdown",
   "metadata": {},
   "source": [
    "\"\"\"\n",
    "Question:\n",
    "A die marked A to E is rolled 50 times. Find the probability of getting a “D” exactly 5\n",
    "times.\n",
    "\"\"\""
   ]
  },
  {
   "cell_type": "code",
   "execution_count": 4,
   "metadata": {},
   "outputs": [
    {
     "name": "stdout",
     "output_type": "stream",
     "text": [
      "Probability of getting a 'D'exactly 5 times 0.03\n"
     ]
    }
   ],
   "source": [
    "\"\"\"\n",
    "Let Xis a random variable\n",
    "X = the number of success out of 50 trials\n",
    "n = 50 \n",
    "r = 5\n",
    "\n",
    "success = output after rolling a die is \"D\"\n",
    "failure = output after rolling a die is not \"D\"\n",
    "\n",
    "P(success)=p=1/5\n",
    "p(failure)=q=4/5\n",
    "\n",
    "P(X=5)=nCr*(P**r)*(q**(n-r))\n",
    "\"\"\"\n",
    "import scipy.special\n",
    "def binaomial_prob(p,q,r,n):\n",
    "    prob_D = scipy.special.comb(n,r)*(p**r)*(q**(n-r))\n",
    "    return round(prob_D,3)\n",
    "\n",
    "value=binaomial_prob(1/5,4/5,5,50)\n",
    "print(\"Probability of getting a 'D'exactly 5 times\",value)"
   ]
  },
  {
   "cell_type": "markdown",
   "metadata": {},
   "source": [
    "\"\"\"\n",
    "Question:\n",
    "Two balls are drawn at random in succession without replacement from an urn\n",
    "containing 4 red balls and 6 black balls.\n",
    "Find the probabilities of all the possible outcomes.\n",
    "\"\"\""
   ]
  },
  {
   "cell_type": "code",
   "execution_count": 7,
   "metadata": {},
   "outputs": [
    {
     "name": "stdout",
     "output_type": "stream",
     "text": [
      "Probability P(r,r)= 0.13\n",
      "Probability P(r,b)= 0.27\n",
      "Probability P(b,r)= 0.27\n",
      "Probability P(b,b)= 0.33\n"
     ]
    }
   ],
   "source": [
    "\"\"\"\n",
    "Details from the question\n",
    "total no. of balls = 10\n",
    "no. of red balls = 4\n",
    "no. of black balls = 6\n",
    "\n",
    "as we can see its a question of choosing ball without replacement, so its a question of conditional probability\n",
    "\n",
    "list the possible outcomes:\n",
    "(r,r)\n",
    "(r,b)\n",
    "(b,r)\n",
    "(b,b)\n",
    "\n",
    "P(r,r)=P(r)*P(r/r)\n",
    "P(r,b)=P(r)*P(r/b)\n",
    "P(b,r)=P(b)*P(b/r)\n",
    "P(b,b)=P(b)*P(b/b)\n",
    "\"\"\"\n",
    "print(\"Probability P(r,r)=\",round((4/10)*(3/9),2))\n",
    "print(\"Probability P(r,b)=\",round((4/10)*(6/9),2))\n",
    "print(\"Probability P(b,r)=\",round((6/10)*(4/9),2))\n",
    "print(\"Probability P(b,b)=\",round((6/10)*(5/9),2))"
   ]
  },
  {
   "cell_type": "markdown",
   "metadata": {},
   "source": [
    "\"\"\"Blood glucose levels for obese patients have a mean of 100 with a standard deviation\n",
    "of 15. A researcher thinks that a diet high in raw cornstarch will have a positive\n",
    "effect on blood glucose levels. A sample of 36 patients who have tried the raw\n",
    "cornstarch diet have a mean glucose level of 108. Test the hypothesis that the raw\n",
    "cornstarch had an effect or not.\n",
    "1. In one state, 52% of the voters are Republicans, and 48% are Democrats. In a\n",
    "second state, 47% of the voters are Republicans, and 53% are Democrats.\n",
    "Suppose a simple random sample of 100 voters are surveyed from each state.\n",
    "What is the probability that the survey will show a greater percentage of\n",
    "Republican voters in the second state than in the first state?\n",
    "2. You take the SAT and score 1100. The mean score for the SAT is 1026 and the\n",
    "standard deviation is 209. How well did you score on the test compared to the\n",
    "average test taker?\"\"\""
   ]
  },
  {
   "cell_type": "code",
   "execution_count": 1,
   "metadata": {},
   "outputs": [
    {
     "name": "stdout",
     "output_type": "stream",
     "text": [
      "let H0: u=100, stating Stating the hypothesis. Given, The population mean is 100.\n",
      "Let H1: u > 100 \n",
      "Probability of having value less than 108 is :  0.9993128620620841\n",
      "Probability of having value more than or equals to 108 is:  0.0006871379379158604\n",
      "Probability of having value more than or equals to 108 is less than 0.05 so we will reject the Null hypothesis. There is raw cornstarch effect.\n",
      "==================================================\n"
     ]
    }
   ],
   "source": [
    "import scipy.stats as st\n",
    "\n",
    "print(\"let H0: u=100, stating Stating the hypothesis. Given, The population mean is 100.\")\n",
    "print(\"Let H1: u > 100 \")\n",
    "\n",
    "significance_level=0.05 #Let's assume 5% of significance level as its not given in question\n",
    "\n",
    "m=100 #Blood glucose levels for obese patients have a mean of 100\n",
    "s = 15 # Standard deviation of 15\n",
    "p = 36 # A sample of 36 patients\n",
    "x = 108 # Patients who have tried the raw cornstarch diet have a mean glucose level of 108.\n",
    "Z = (x-m) / (s/(p**0.5)) # Z-Score for this set of data\n",
    "p_value = st.norm.cdf(Z) # By looking at z- table, Probability of having value less than 108.\n",
    "p_value_comp = 1-p_value # Probability of having value more than or equals to 108.\n",
    "\n",
    "print(\"Probability of having value less than 108 is : \",p_value)\n",
    "print(\"Probability of having value more than or equals to 108 is: \",p_value_comp)\n",
    "\n",
    "if(p_value_comp < significance_level ):\n",
    "    print(\"Probability of having value more than or equals to 108 is less than \" + str(significance_level) + \" so we will reject the Null hypothesis. There is raw cornstarch effect.\")\n",
    "else:\n",
    "    print(\"Probability of having value less than 108 is not less than \" + str(significance_level) + \" so we will not reject the Null hypothesis. There is no raw cornstarch effect.\")\n",
    "print(\"=\"*50)"
   ]
  },
  {
   "cell_type": "markdown",
   "metadata": {},
   "source": [
    "In one state, 52% of the voters are Republicans, and 48% are Democrats. \n",
    "In a second state, 47% of the voters are Republicans, and 53% are Democrats. \n",
    "Suppose a simple random sample of 100 voters are surveyed from each state.\n",
    "What is the probability that the survey will show a greater percentage of Republican voters in the second state than in the first state?"
   ]
  },
  {
   "cell_type": "code",
   "execution_count": 4,
   "metadata": {},
   "outputs": [
    {
     "name": "stdout",
     "output_type": "stream",
     "text": [
      "The mean of the difference in sample proportions:P1-P2= 0.05\n",
      "The standard deviation of the difference 0.07061869440877536\n",
      "Z-Score using mean difference and calculated standard deviation: -0.7080278164104213\n",
      "The probability that the survey will show a greater percentage of Republican voters in the second state than in the first state is: 0.24\n"
     ]
    }
   ],
   "source": [
    "P1 = 0.52\n",
    "P2 = 0.47\n",
    "n1=100\n",
    "n2=100\n",
    "mean_difference=P1-P2\n",
    "print(\"The mean of the difference in sample proportions:P1-P2=\",round(mean_difference,2))\n",
    "Std_dev = ((P1*(1-P1)/n1) + (P2*(1-P2)/n2))**0.5\n",
    "print(\"The standard deviation of the difference\",Std_dev)\n",
    "Z=(0-mean_difference)/Std_dev\n",
    "print(\"Z-Score using mean difference and calculated standard deviation:\", Z)\n",
    "p_value = st.norm.cdf(Z)\n",
    "print(\"The probability that the survey will show a greater percentage of Republican voters in the second state than in the first state is:\", round(p_value, 2))"
   ]
  },
  {
   "cell_type": "markdown",
   "metadata": {},
   "source": [
    "You take the SAT and score 1100. The mean score for the SAT is 1026 and the standard deviation is 209. \n",
    "How well did you score on the test compared to the average test taker?\n"
   ]
  },
  {
   "cell_type": "code",
   "execution_count": 8,
   "metadata": {},
   "outputs": [
    {
     "name": "stdout",
     "output_type": "stream",
     "text": [
      "I have scored higher than 63.835565843531896% of test takers.\n"
     ]
    }
   ],
   "source": [
    "m = 1026\n",
    "s = 209 \n",
    "x = 1100 \n",
    "Z = (x-m)/s\n",
    "\n",
    "p_value = st.norm.cdf(Z) \n",
    "print(\"I have scored higher than \" + str(p_value*100)+ \"% of test takers.\")"
   ]
  },
  {
   "cell_type": "code",
   "execution_count": null,
   "metadata": {},
   "outputs": [],
   "source": []
  }
 ],
 "metadata": {
  "kernelspec": {
   "display_name": "Python 3",
   "language": "python",
   "name": "python3"
  },
  "language_info": {
   "codemirror_mode": {
    "name": "ipython",
    "version": 3
   },
   "file_extension": ".py",
   "mimetype": "text/x-python",
   "name": "python",
   "nbconvert_exporter": "python",
   "pygments_lexer": "ipython3",
   "version": "3.7.0"
  }
 },
 "nbformat": 4,
 "nbformat_minor": 2
}
