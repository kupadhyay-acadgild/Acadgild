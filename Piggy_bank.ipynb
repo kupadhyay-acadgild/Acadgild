{
 "cells": [
  {
   "cell_type": "code",
   "execution_count": 2,
   "metadata": {},
   "outputs": [
    {
     "name": "stdout",
     "output_type": "stream",
     "text": [
      "Enter your username: kupadhyay\n",
      "Enter your password: Acadgild19\n",
      "Greetings, kupadhyay you are now logged in\n",
      "Enter amount which need to be add in Piggy bank: 1000\n",
      "Updated balance is:  1000\n",
      "Enter amount which need to be withdraw from Piggy bank: 300\n",
      "Updated balance is:  700\n"
     ]
    }
   ],
   "source": [
    "##Piggy bank\n",
    "class piggy_bank():\n",
    "    use = \"kupadhyay\"\n",
    "    pwd = \"Acadgild19\"\n",
    "    x = False\n",
    "    def askUser(self):\n",
    "        username = input(\"Enter your username: \")\n",
    "        password = input(\"Enter your password: \")\n",
    "        self.x = self.checkPass(username, password)\n",
    "        \n",
    "    def checkPass(self, use1, pwd1):\n",
    "        if self.use == use1 and self.pwd == pwd1:\n",
    "            return True\n",
    "        else:\n",
    "            print (\"Your username and/or password was incorrect\")\n",
    "            self.askUser()\n",
    "            \n",
    "    def Transaction(self):\n",
    "        if self.x:\n",
    "            print (\"Greetings,\" , self.use, \"you are now logged in\")\n",
    "        ## Initial amount of Piggy bank \n",
    "            Amount = 0\n",
    "        ## Adding Amount to piggy bank\n",
    "            Add_Amount = input(\"Enter amount which need to be add in Piggy bank: \")\n",
    "            Balance = int(Amount) + int(Add_Amount)\n",
    "            print(\"Updated balance is: \", Balance)\n",
    "        ##Withdrawing amount from piggy bank\n",
    "            Withdraw_Amount = input(\"Enter amount which need to be withdraw from Piggy bank: \")\n",
    "            Balance = int(Balance) - int(Withdraw_Amount)\n",
    "            print(\"Updated balance is: \", Balance)\n",
    "        \n",
    "kk = piggy_bank()\n",
    "kk.askUser()\n",
    "kk.Transaction()"
   ]
  },
  {
   "cell_type": "code",
   "execution_count": null,
   "metadata": {},
   "outputs": [],
   "source": []
  }
 ],
 "metadata": {
  "kernelspec": {
   "display_name": "Python 3",
   "language": "python",
   "name": "python3"
  },
  "language_info": {
   "codemirror_mode": {
    "name": "ipython",
    "version": 3
   },
   "file_extension": ".py",
   "mimetype": "text/x-python",
   "name": "python",
   "nbconvert_exporter": "python",
   "pygments_lexer": "ipython3",
   "version": "3.7.0"
  }
 },
 "nbformat": 4,
 "nbformat_minor": 2
}
