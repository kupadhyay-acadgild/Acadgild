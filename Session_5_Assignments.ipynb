{
 "cells": [
  {
   "cell_type": "code",
   "execution_count": 1,
   "metadata": {},
   "outputs": [
    {
     "name": "stdout",
     "output_type": "stream",
     "text": [
      "your answer is correct: 0.75\n",
      "Int can't be devided by 0, your answer is invalid\n"
     ]
    }
   ],
   "source": [
    "\"\"\"\n",
    "Write a function to compute 5/0 and use try/except to catch the exceptions.\n",
    "\"\"\"\n",
    "def divide_fun(x,y):\n",
    "    try:\n",
    "        result = x / y\n",
    "        print(\"your answer is correct:\", result)\n",
    "    except ZeroDivisionError:\n",
    "        print(\"Int can't be devided by 0, your answer is invalid\")\n",
    "divide_fun(3,4)\n",
    "divide_fun(3,0)"
   ]
  },
  {
   "cell_type": "code",
   "execution_count": 2,
   "metadata": {},
   "outputs": [
    {
     "name": "stdout",
     "output_type": "stream",
     "text": [
      "Americans  play Baseball\n",
      "Americans  play Cricket\n",
      "Americans  watch Baseball\n",
      "Americans  watch Cricket\n",
      "Indians play Baseball\n",
      "Indians play Cricket\n",
      "Indians watch Baseball\n",
      "Indians watch Cricket\n"
     ]
    }
   ],
   "source": [
    "\"\"\"\n",
    "Implement a Python program to generate all sentences where subject is in [\"Americans\", \"Indians\"] and verb is in [\"Play\", \"watch\"] and the object is in [\"Baseball\",\"cricket\"].\n",
    "\"\"\"\n",
    "subjects=[\"Americans \",\"Indians\"]\n",
    "verbs=[\"play\",\"watch\"]\n",
    "objects=[\"Baseball\",\"Cricket\"]\n",
    "\n",
    "sentence_form = [(sub +\" \"+vb+\" \"+ob) for sub in subjects for vb in verbs for ob in objects]\n",
    "for sentence in sentence_form:\n",
    "    print (sentence)"
   ]
  }
 ],
 "metadata": {
  "kernelspec": {
   "display_name": "Python 3",
   "language": "python",
   "name": "python3"
  },
  "language_info": {
   "codemirror_mode": {
    "name": "ipython",
    "version": 3
   },
   "file_extension": ".py",
   "mimetype": "text/x-python",
   "name": "python",
   "nbconvert_exporter": "python",
   "pygments_lexer": "ipython3",
   "version": "3.7.0"
  }
 },
 "nbformat": 4,
 "nbformat_minor": 2
}
